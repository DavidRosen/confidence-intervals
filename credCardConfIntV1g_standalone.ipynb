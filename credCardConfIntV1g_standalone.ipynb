{
 "cells": [
  {
   "cell_type": "markdown",
   "metadata": {},
   "source": [
    "# First Part is from \"How To Deal With Imbalanced Classification, Without Re-balancing the Data\"  by David Rosen  https://towardsdatascience.com/how-to-deal-with-imbalanced-classification-without-re-balancing-the-data-8a3c02353fe3\n",
    "## Second Part is down below"
   ]
  },
  {
   "cell_type": "code",
   "execution_count": 1,
   "metadata": {},
   "outputs": [
    {
     "name": "stdout",
     "output_type": "stream",
     "text": [
      "<class 'pandas.core.frame.DataFrame'>\n",
      "RangeIndex: 284807 entries, 0 to 284806\n",
      "Data columns (total 31 columns):\n",
      " #   Column  Non-Null Count   Dtype  \n",
      "---  ------  --------------   -----  \n",
      " 0   Time    284807 non-null  float64\n",
      " 1   V1      284807 non-null  float64\n",
      " 2   V2      284807 non-null  float64\n",
      " 3   V3      284807 non-null  float64\n",
      " 4   V4      284807 non-null  float64\n",
      " 5   V5      284807 non-null  float64\n",
      " 6   V6      284807 non-null  float64\n",
      " 7   V7      284807 non-null  float64\n",
      " 8   V8      284807 non-null  float64\n",
      " 9   V9      284807 non-null  float64\n",
      " 10  V10     284807 non-null  float64\n",
      " 11  V11     284807 non-null  float64\n",
      " 12  V12     284807 non-null  float64\n",
      " 13  V13     284807 non-null  float64\n",
      " 14  V14     284807 non-null  float64\n",
      " 15  V15     284807 non-null  float64\n",
      " 16  V16     284807 non-null  float64\n",
      " 17  V17     284807 non-null  float64\n",
      " 18  V18     284807 non-null  float64\n",
      " 19  V19     284807 non-null  float64\n",
      " 20  V20     284807 non-null  float64\n",
      " 21  V21     284807 non-null  float64\n",
      " 22  V22     284807 non-null  float64\n",
      " 23  V23     284807 non-null  float64\n",
      " 24  V24     284807 non-null  float64\n",
      " 25  V25     284807 non-null  float64\n",
      " 26  V26     284807 non-null  float64\n",
      " 27  V27     284807 non-null  float64\n",
      " 28  V28     284807 non-null  float64\n",
      " 29  Amount  284807 non-null  float64\n",
      " 30  Class   284807 non-null  int64  \n",
      "dtypes: float64(30), int64(1)\n",
      "memory usage: 67.4 MB\n"
     ]
    }
   ],
   "source": [
    "import numpy as np\n",
    "import pandas as pd\n",
    "import re\n",
    "from sklearn import metrics, model_selection\n",
    "from sklearn.experimental import enable_hist_gradient_boosting\n",
    "from sklearn.ensemble import HistGradientBoostingClassifier\n",
    "df=pd.read_csv('creditcard.csv')\n",
    "df.info()"
   ]
  },
  {
   "cell_type": "code",
   "execution_count": 2,
   "metadata": {},
   "outputs": [
    {
     "data": {
      "text/plain": [
       "(492, 0.001727485630620034)"
      ]
     },
     "execution_count": 2,
     "metadata": {},
     "output_type": "execute_result"
    }
   ],
   "source": [
    "df.Class.sum(),df.Class.mean()"
   ]
  },
  {
   "cell_type": "markdown",
   "metadata": {},
   "source": [
    "## split into train and test and train the model"
   ]
  },
  {
   "cell_type": "code",
   "execution_count": 3,
   "metadata": {},
   "outputs": [],
   "source": [
    "Xtrain, Xtest, ytrain, ytest = model_selection.train_test_split(\n",
    "        df.loc[:,'V1':'Amount'], df.Class,  stratify=df.Class, \n",
    "        test_size=0.3, random_state=42)\n",
    "gbc=HistGradientBoostingClassifier(learning_rate=0.01, \n",
    "        max_iter=2000, max_leaf_nodes=6, validation_fraction=0.2, \n",
    "        n_iter_no_change=15, random_state=42).fit(Xtrain,ytrain)"
   ]
  },
  {
   "cell_type": "code",
   "execution_count": 4,
   "metadata": {},
   "outputs": [
    {
     "data": {
      "text/plain": [
       "[pandas.core.frame.DataFrame,\n",
       " pandas.core.frame.DataFrame,\n",
       " pandas.core.series.Series,\n",
       " pandas.core.series.Series]"
      ]
     },
     "execution_count": 4,
     "metadata": {},
     "output_type": "execute_result"
    }
   ],
   "source": [
    "[type(x) for x in (Xtrain, Xtest, ytrain, ytest)]"
   ]
  },
  {
   "cell_type": "code",
   "execution_count": 5,
   "metadata": {},
   "outputs": [
    {
     "data": {
      "text/plain": [
       "(249927    0\n",
       " 214082    0\n",
       " 106005    0\n",
       " 58619     0\n",
       " 191638    0\n",
       "          ..\n",
       " 3441      0\n",
       " 233802    0\n",
       " 85418     0\n",
       " 29062     0\n",
       " 17677     0\n",
       " Name: Class, Length: 199364, dtype: int64,\n",
       " 186882    0\n",
       " 165754    0\n",
       " 235285    0\n",
       " 101271    0\n",
       " 5832      0\n",
       "          ..\n",
       " 64725     0\n",
       " 16688     0\n",
       " 183868    0\n",
       " 45011     0\n",
       " 150527    0\n",
       " Name: Class, Length: 85443, dtype: int64)"
      ]
     },
     "execution_count": 5,
     "metadata": {},
     "output_type": "execute_result"
    }
   ],
   "source": [
    "ytrain,ytest"
   ]
  },
  {
   "cell_type": "markdown",
   "metadata": {},
   "source": [
    "## apply the full model to the test data as a hard classifier with (implicit) decision threshold 0.5\n",
    "\n",
    "In other words, this classifier tells us which class is more probable than the other according to the model"
   ]
  },
  {
   "cell_type": "code",
   "execution_count": 6,
   "metadata": {},
   "outputs": [
    {
     "data": {
      "text/html": [
       "<div>\n",
       "<style scoped>\n",
       "    .dataframe tbody tr th:only-of-type {\n",
       "        vertical-align: middle;\n",
       "    }\n",
       "\n",
       "    .dataframe tbody tr th {\n",
       "        vertical-align: top;\n",
       "    }\n",
       "\n",
       "    .dataframe thead th {\n",
       "        text-align: right;\n",
       "    }\n",
       "</style>\n",
       "<table border=\"1\" class=\"dataframe\">\n",
       "  <thead>\n",
       "    <tr style=\"text-align: right;\">\n",
       "      <th></th>\n",
       "      <th>Pred 0(Approve as Legit)</th>\n",
       "      <th>Pred 1(Deny as Fraud)</th>\n",
       "    </tr>\n",
       "  </thead>\n",
       "  <tbody>\n",
       "    <tr>\n",
       "      <th>True 0(Legit)</th>\n",
       "      <td>TN = 85285 (TNR = 99.99%)</td>\n",
       "      <td>FP = 10 (FPR = 0.01%)</td>\n",
       "    </tr>\n",
       "    <tr>\n",
       "      <th>True 1(Fraud)</th>\n",
       "      <td>FN = 42 (FNR = 28.38%)</td>\n",
       "      <td>TP = 106 (TPR = 71.62%)</td>\n",
       "    </tr>\n",
       "  </tbody>\n",
       "</table>\n",
       "</div>"
      ],
      "text/plain": [
       "                Pred 0(Approve as Legit)    Pred 1(Deny as Fraud)\n",
       "True 0(Legit)  TN = 85285 (TNR = 99.99%)    FP = 10 (FPR = 0.01%)\n",
       "True 1(Fraud)     FN = 42 (FNR = 28.38%)  TP = 106 (TPR = 71.62%)"
      ]
     },
     "execution_count": 6,
     "metadata": {},
     "output_type": "execute_result"
    }
   ],
   "source": [
    "hardpredtst=gbc.predict(Xtest)\n",
    "def conf_matrix(y,pred):\n",
    "    ((tn, fp), (fn, tp)) = metrics.confusion_matrix(y, pred)\n",
    "    ((tnr,fpr),(fnr,tpr))= metrics.confusion_matrix(y, pred, \n",
    "            normalize='true')\n",
    "    return pd.DataFrame([[f'TN = {tn} (TNR = {tnr:1.2%})', \n",
    "                                f'FP = {fp} (FPR = {fpr:1.2%})'], \n",
    "                         [f'FN = {fn} (FNR = {fnr:1.2%})', \n",
    "                                f'TP = {tp} (TPR = {tpr:1.2%})']],\n",
    "            index=['True 0(Legit)', 'True 1(Fraud)'], \n",
    "            columns=['Pred 0(Approve as Legit)', \n",
    "                            'Pred 1(Deny as Fraud)'])\n",
    "conf_matrix(ytest,hardpredtst)"
   ]
  },
  {
   "cell_type": "code",
   "execution_count": null,
   "metadata": {},
   "outputs": [],
   "source": []
  },
  {
   "cell_type": "markdown",
   "metadata": {},
   "source": [
    "The true pos rate (Recall of class 1 (frauds)) is too low -- we want to identify more than 72% of frauds as such"
   ]
  },
  {
   "cell_type": "markdown",
   "metadata": {},
   "source": [
    "Ultimately it is a business decision what threshold to apply when deciding whether to approve a transaction, as it is a trade-off between false approvals and false rejections."
   ]
  },
  {
   "cell_type": "markdown",
   "metadata": {},
   "source": [
    "## plot the true positive rate and false positive rate as a function of threshold to manage the trade-off"
   ]
  },
  {
   "cell_type": "code",
   "execution_count": 7,
   "metadata": {},
   "outputs": [
    {
     "data": {
      "image/png": "[encoded data removed]",
      "text/plain": [
       "<Figure size 720x432 with 1 Axes>"
      ]
     },
     "metadata": {
      "needs_background": "light"
     },
     "output_type": "display_data"
    }
   ],
   "source": [
    "predtst=gbc.predict_proba(Xtest)[:,1]\n",
    "fpr, tpr, thresholds = metrics.roc_curve(ytest, predtst)\n",
    "dfplot=pd.DataFrame({'Threshold':thresholds, \n",
    "        'False Positive Rate':fpr, \n",
    "        'False Negative Rate': 1.-tpr})\n",
    "ax=dfplot.plot(x='Threshold', y=['False Positive Rate',\n",
    "        'False Negative Rate'], figsize=(10,6))\n",
    "ax.plot([0.00035,0.00035],[0,0.1]) #mark example thresh.\n",
    "ax.set_xbound(0,0.0008); ax.set_ybound(0,0.3) #zoom in"
   ]
  },
  {
   "cell_type": "markdown",
   "metadata": {},
   "source": [
    "## choose a threshold of 0.00035 (0.035%) (vertical green line shown) which will give us a false negative (approved fraud) rate of about 9% and a false positive (rejected legitimate) rate of about 6%"
   ]
  },
  {
   "cell_type": "code",
   "execution_count": 8,
   "metadata": {},
   "outputs": [
    {
     "data": {
      "text/html": [
       "<div>\n",
       "<style scoped>\n",
       "    .dataframe tbody tr th:only-of-type {\n",
       "        vertical-align: middle;\n",
       "    }\n",
       "\n",
       "    .dataframe tbody tr th {\n",
       "        vertical-align: top;\n",
       "    }\n",
       "\n",
       "    .dataframe thead th {\n",
       "        text-align: right;\n",
       "    }\n",
       "</style>\n",
       "<table border=\"1\" class=\"dataframe\">\n",
       "  <thead>\n",
       "    <tr style=\"text-align: right;\">\n",
       "      <th></th>\n",
       "      <th>Pred 0(Approve as Legit)</th>\n",
       "      <th>Pred 1(Deny as Fraud)</th>\n",
       "    </tr>\n",
       "  </thead>\n",
       "  <tbody>\n",
       "    <tr>\n",
       "      <th>True 0(Legit)</th>\n",
       "      <td>TN = 80388 (TNR = 94.25%)</td>\n",
       "      <td>FP = 4907 (FPR = 5.75%)</td>\n",
       "    </tr>\n",
       "    <tr>\n",
       "      <th>True 1(Fraud)</th>\n",
       "      <td>FN = 14 (FNR = 9.46%)</td>\n",
       "      <td>TP = 134 (TPR = 90.54%)</td>\n",
       "    </tr>\n",
       "  </tbody>\n",
       "</table>\n",
       "</div>"
      ],
      "text/plain": [
       "                Pred 0(Approve as Legit)    Pred 1(Deny as Fraud)\n",
       "True 0(Legit)  TN = 80388 (TNR = 94.25%)  FP = 4907 (FPR = 5.75%)\n",
       "True 1(Fraud)      FN = 14 (FNR = 9.46%)  TP = 134 (TPR = 90.54%)"
      ]
     },
     "execution_count": 8,
     "metadata": {},
     "output_type": "execute_result"
    }
   ],
   "source": [
    "hardpredtst_tuned_thresh = np.where(predtst >= 0.00035, 1, 0)\n",
    "conf_matrix(ytest, hardpredtst_tuned_thresh)"
   ]
  },
  {
   "cell_type": "markdown",
   "metadata": {},
   "source": [
    "Sure enough, False neg rate of 9.46% (i.e. identified/denied 90.54% of our frauds) and false pos rt of 5.75% (i.e. still approved 94.25% of our legitimate transactions)."
   ]
  },
  {
   "cell_type": "markdown",
   "metadata": {},
   "source": [
    "# This second part is for \"How to determine confidence intervals for your model performance, like \"92.4% [89.6% to 94.7%]\", for any metric such as Accuracy, Recall, Precision, Specificity, F1 and others\" by David Rosen (you can find it via http://dabruro.medium.com/) "
   ]
  },
  {
   "cell_type": "code",
   "execution_count": 9,
   "metadata": {},
   "outputs": [],
   "source": [
    "import numpy as np\n",
    "import pandas as pd\n",
    "import re\n",
    "def make_boot_df(dforig):\n",
    "    \"\"\"Returns one boot sample dataframe, same shape as dforig\n",
    "    \"\"\"\n",
    "    return dforig.sample(frac=1,replace=True).reset_index(drop=True)"
   ]
  },
  {
   "cell_type": "code",
   "execution_count": 16,
   "metadata": {},
   "outputs": [
    {
     "data": {
      "text/html": [
       "<div>\n",
       "<style scoped>\n",
       "    .dataframe tbody tr th:only-of-type {\n",
       "        vertical-align: middle;\n",
       "    }\n",
       "\n",
       "    .dataframe tbody tr th {\n",
       "        vertical-align: top;\n",
       "    }\n",
       "\n",
       "    .dataframe thead tr th {\n",
       "        text-align: left;\n",
       "    }\n",
       "</style>\n",
       "<table border=\"1\" class=\"dataframe\">\n",
       "  <thead>\n",
       "    <tr>\n",
       "      <th></th>\n",
       "      <th colspan=\"2\" halign=\"left\">Orig</th>\n",
       "      <th colspan=\"2\" halign=\"left\">Boot0</th>\n",
       "      <th colspan=\"2\" halign=\"left\">Boot1</th>\n",
       "    </tr>\n",
       "    <tr>\n",
       "      <th></th>\n",
       "      <th>Class</th>\n",
       "      <th>PredClass</th>\n",
       "      <th>Class</th>\n",
       "      <th>PredClass</th>\n",
       "      <th>Class</th>\n",
       "      <th>PredClass</th>\n",
       "    </tr>\n",
       "  </thead>\n",
       "  <tbody>\n",
       "    <tr>\n",
       "      <th>0</th>\n",
       "      <td>0</td>\n",
       "      <td>0</td>\n",
       "      <td>0</td>\n",
       "      <td>0</td>\n",
       "      <td>0</td>\n",
       "      <td>0</td>\n",
       "    </tr>\n",
       "    <tr>\n",
       "      <th>1</th>\n",
       "      <td>0</td>\n",
       "      <td>0</td>\n",
       "      <td>0</td>\n",
       "      <td>0</td>\n",
       "      <td>0</td>\n",
       "      <td>0</td>\n",
       "    </tr>\n",
       "    <tr>\n",
       "      <th>2</th>\n",
       "      <td>0</td>\n",
       "      <td>0</td>\n",
       "      <td>0</td>\n",
       "      <td>1</td>\n",
       "      <td>0</td>\n",
       "      <td>0</td>\n",
       "    </tr>\n",
       "    <tr>\n",
       "      <th>3</th>\n",
       "      <td>0</td>\n",
       "      <td>0</td>\n",
       "      <td>0</td>\n",
       "      <td>0</td>\n",
       "      <td>0</td>\n",
       "      <td>0</td>\n",
       "    </tr>\n",
       "    <tr>\n",
       "      <th>4</th>\n",
       "      <td>0</td>\n",
       "      <td>0</td>\n",
       "      <td>0</td>\n",
       "      <td>0</td>\n",
       "      <td>0</td>\n",
       "      <td>0</td>\n",
       "    </tr>\n",
       "    <tr>\n",
       "      <th>...</th>\n",
       "      <td>...</td>\n",
       "      <td>...</td>\n",
       "      <td>...</td>\n",
       "      <td>...</td>\n",
       "      <td>...</td>\n",
       "      <td>...</td>\n",
       "    </tr>\n",
       "    <tr>\n",
       "      <th>85438</th>\n",
       "      <td>0</td>\n",
       "      <td>0</td>\n",
       "      <td>0</td>\n",
       "      <td>0</td>\n",
       "      <td>0</td>\n",
       "      <td>0</td>\n",
       "    </tr>\n",
       "    <tr>\n",
       "      <th>85439</th>\n",
       "      <td>0</td>\n",
       "      <td>1</td>\n",
       "      <td>0</td>\n",
       "      <td>0</td>\n",
       "      <td>0</td>\n",
       "      <td>0</td>\n",
       "    </tr>\n",
       "    <tr>\n",
       "      <th>85440</th>\n",
       "      <td>0</td>\n",
       "      <td>0</td>\n",
       "      <td>0</td>\n",
       "      <td>0</td>\n",
       "      <td>0</td>\n",
       "      <td>0</td>\n",
       "    </tr>\n",
       "    <tr>\n",
       "      <th>85441</th>\n",
       "      <td>0</td>\n",
       "      <td>0</td>\n",
       "      <td>0</td>\n",
       "      <td>0</td>\n",
       "      <td>0</td>\n",
       "      <td>0</td>\n",
       "    </tr>\n",
       "    <tr>\n",
       "      <th>85442</th>\n",
       "      <td>0</td>\n",
       "      <td>0</td>\n",
       "      <td>0</td>\n",
       "      <td>0</td>\n",
       "      <td>0</td>\n",
       "      <td>0</td>\n",
       "    </tr>\n",
       "  </tbody>\n",
       "</table>\n",
       "<p>85443 rows × 6 columns</p>\n",
       "</div>"
      ],
      "text/plain": [
       "       Orig           Boot0           Boot1          \n",
       "      Class PredClass Class PredClass Class PredClass\n",
       "0         0         0     0         0     0         0\n",
       "1         0         0     0         0     0         0\n",
       "2         0         0     0         1     0         0\n",
       "3         0         0     0         0     0         0\n",
       "4         0         0     0         0     0         0\n",
       "...     ...       ...   ...       ...   ...       ...\n",
       "85438     0         0     0         0     0         0\n",
       "85439     0         1     0         0     0         0\n",
       "85440     0         0     0         0     0         0\n",
       "85441     0         0     0         0     0         0\n",
       "85442     0         0     0         0     0         0\n",
       "\n",
       "[85443 rows x 6 columns]"
      ]
     },
     "execution_count": 16,
     "metadata": {},
     "output_type": "execute_result"
    }
   ],
   "source": [
    "# reset random row nums from #train_test_split() #before #concat!\n",
    "ytest=ytest.reset_index(drop=True) #else #concat #ignore_index=True\n",
    "hardpredtst_tuned_thresh = pd.Series\\\n",
    "  (hardpredtst_tuned_thresh, name='PredClass') #was #Numpy #array\n",
    "dforig = pd.concat([ytest, hardpredtst_tuned_thresh], axis=1)\n",
    "np.random.seed(13)  # to get same #sample #datasets #every #time\n",
    "df0, dfd1 = make_boot_df(dforig), make_boot_df(dforig)\n",
    "pd.concat([dforig,df0,df1], axis=1, keys=['Orig','Boot0','Boot1'])"
   ]
  },
  {
   "cell_type": "code",
   "execution_count": 11,
   "metadata": {},
   "outputs": [],
   "source": [
    "def raw_metric_samples(metrics, *data_args, nboots=10, sort=False,\n",
    "       **metric_kwargs):\n",
    "    \"\"\"Return dataframe containing metric(s) for nboots boot sample datasets.\n",
    "    metrics is a metric func or iterable of funcs e.g. [m1, m2, m3]\n",
    "    \"\"\"\n",
    "    if callable(metrics): metrics=[metrics] # single metric func to list\n",
    "    metrics=list(metrics) # in case it is a generator\n",
    "    dforig=pd.DataFrame\\\n",
    "    ( { arg.name if hasattr(arg,'name') else str(i) : np.array(arg)\n",
    "          for i,arg in enumerate(data_args) \n",
    "      }# end of dict comprehen.; np.array() removes index\n",
    "    ) # I like ( ) to be above one another\n",
    "    res=pd.DataFrame\\\n",
    "    ( # dictionary comprehension:\n",
    "      { b:[ m( *[col_as_arg for (colname,col_as_arg) in dfboot.items()],\n",
    "               **_kws_this_metric(m,**metric_kwargs)\n",
    "             ) for m in metrics # list comprehension ends w/following \"]\":\n",
    "          ] for b,dfboot in # generator expr. avoids huge mem. of *list* of df's:\n",
    "            ((b,make_boot_df(dforig)) for b in range(nboots))\n",
    "            if dfboot.iloc[:,0].nunique()>1 # >1 for log loss (no labels), roc\n",
    "      }, index=[_metric_name(m) for m in metrics]\n",
    "    ) # sorry but I like ( ) to be above #one #another:-)\n",
    "    res.index.name=\"Metric (class 1 +ve)\"\n",
    "    return res.apply(lambda row: np.sort(row), axis=1) if sort else res\n",
    "from sklearn import metrics\n",
    "def specificity_score(true,pred, **kwargs):\n",
    "    return metrics.recall_score(1-pd.Series(true), 1-pd.Series(pred), **kwargs)\n",
    "specificity_score.__name__ = \"Specificity (Recall of -ve)\"\n",
    "def _kws_this_metric(m,**metric_kwargs):\n",
    "    # dict of just those metric_kwargs that this metric accepts\n",
    "    return \\\n",
    "    { k: metric_kwargs[k] for k in metric_kwargs.keys()\n",
    "           & m.__wrapped__.__kwdefaults__.keys() # intersect\n",
    "    } if ( hasattr(m,\"__wrapped__\") and\n",
    "               hasattr(m.__wrapped__,\"__kwdefaults__\") and\n",
    "               isinstance(m.__wrapped__.__kwdefaults__, dict) \n",
    "         ) else dict() # no keywords if attribs aren't there\n",
    "def _metric_name(m):\n",
    "    name=re.sub(' score$','',m.__name__.replace('_',' '))\n",
    "    return name.title() if name.lower()==name else name"
   ]
  },
  {
   "cell_type": "code",
   "execution_count": 17,
   "metadata": {},
   "outputs": [
    {
     "data": {
      "text/html": [
       "<style  type=\"text/css\" >\n",
       "</style><table id=\"T_51668c34_0f6e_11ec_b437_e470b8cd6e59\" ><thead>    <tr>        <th class=\"blank level0\" ></th>        <th class=\"col_heading level0 col0\" >0</th>        <th class=\"col_heading level0 col1\" >1</th>        <th class=\"col_heading level0 col2\" >2</th>        <th class=\"col_heading level0 col3\" >3</th>        <th class=\"col_heading level0 col4\" >4</th>        <th class=\"col_heading level0 col5\" >5</th>        <th class=\"col_heading level0 col6\" >6</th>        <th class=\"col_heading level0 col7\" >7</th>        <th class=\"col_heading level0 col8\" >8</th>        <th class=\"col_heading level0 col9\" >9</th>    </tr>    <tr>        <th class=\"index_name level0\" >Metric (class 1 +ve)</th>        <th class=\"blank\" ></th>        <th class=\"blank\" ></th>        <th class=\"blank\" ></th>        <th class=\"blank\" ></th>        <th class=\"blank\" ></th>        <th class=\"blank\" ></th>        <th class=\"blank\" ></th>        <th class=\"blank\" ></th>        <th class=\"blank\" ></th>        <th class=\"blank\" ></th>    </tr></thead><tbody>\n",
       "                <tr>\n",
       "                        <th id=\"T_51668c34_0f6e_11ec_b437_e470b8cd6e59level0_row0\" class=\"row_heading level0 row0\" >Recall</th>\n",
       "                        <td id=\"T_51668c34_0f6e_11ec_b437_e470b8cd6e59row0_col0\" class=\"data row0 col0\" >93.46%</td>\n",
       "                        <td id=\"T_51668c34_0f6e_11ec_b437_e470b8cd6e59row0_col1\" class=\"data row0 col1\" >89.81%</td>\n",
       "                        <td id=\"T_51668c34_0f6e_11ec_b437_e470b8cd6e59row0_col2\" class=\"data row0 col2\" >96.62%</td>\n",
       "                        <td id=\"T_51668c34_0f6e_11ec_b437_e470b8cd6e59row0_col3\" class=\"data row0 col3\" >89.38%</td>\n",
       "                        <td id=\"T_51668c34_0f6e_11ec_b437_e470b8cd6e59row0_col4\" class=\"data row0 col4\" >89.57%</td>\n",
       "                        <td id=\"T_51668c34_0f6e_11ec_b437_e470b8cd6e59row0_col5\" class=\"data row0 col5\" >89.68%</td>\n",
       "                        <td id=\"T_51668c34_0f6e_11ec_b437_e470b8cd6e59row0_col6\" class=\"data row0 col6\" >82.82%</td>\n",
       "                        <td id=\"T_51668c34_0f6e_11ec_b437_e470b8cd6e59row0_col7\" class=\"data row0 col7\" >89.74%</td>\n",
       "                        <td id=\"T_51668c34_0f6e_11ec_b437_e470b8cd6e59row0_col8\" class=\"data row0 col8\" >88.07%</td>\n",
       "                        <td id=\"T_51668c34_0f6e_11ec_b437_e470b8cd6e59row0_col9\" class=\"data row0 col9\" >85.71%</td>\n",
       "            </tr>\n",
       "            <tr>\n",
       "                        <th id=\"T_51668c34_0f6e_11ec_b437_e470b8cd6e59level0_row1\" class=\"row_heading level0 row1\" >Specificity (Recall of -ve)</th>\n",
       "                        <td id=\"T_51668c34_0f6e_11ec_b437_e470b8cd6e59row1_col0\" class=\"data row1 col0\" >94.29%</td>\n",
       "                        <td id=\"T_51668c34_0f6e_11ec_b437_e470b8cd6e59row1_col1\" class=\"data row1 col1\" >94.14%</td>\n",
       "                        <td id=\"T_51668c34_0f6e_11ec_b437_e470b8cd6e59row1_col2\" class=\"data row1 col2\" >94.29%</td>\n",
       "                        <td id=\"T_51668c34_0f6e_11ec_b437_e470b8cd6e59row1_col3\" class=\"data row1 col3\" >94.35%</td>\n",
       "                        <td id=\"T_51668c34_0f6e_11ec_b437_e470b8cd6e59row1_col4\" class=\"data row1 col4\" >94.27%</td>\n",
       "                        <td id=\"T_51668c34_0f6e_11ec_b437_e470b8cd6e59row1_col5\" class=\"data row1 col5\" >94.09%</td>\n",
       "                        <td id=\"T_51668c34_0f6e_11ec_b437_e470b8cd6e59row1_col6\" class=\"data row1 col6\" >94.28%</td>\n",
       "                        <td id=\"T_51668c34_0f6e_11ec_b437_e470b8cd6e59row1_col7\" class=\"data row1 col7\" >94.21%</td>\n",
       "                        <td id=\"T_51668c34_0f6e_11ec_b437_e470b8cd6e59row1_col8\" class=\"data row1 col8\" >94.14%</td>\n",
       "                        <td id=\"T_51668c34_0f6e_11ec_b437_e470b8cd6e59row1_col9\" class=\"data row1 col9\" >94.22%</td>\n",
       "            </tr>\n",
       "            <tr>\n",
       "                        <th id=\"T_51668c34_0f6e_11ec_b437_e470b8cd6e59level0_row2\" class=\"row_heading level0 row2\" >Balanced Accuracy</th>\n",
       "                        <td id=\"T_51668c34_0f6e_11ec_b437_e470b8cd6e59row2_col0\" class=\"data row2 col0\" >93.88%</td>\n",
       "                        <td id=\"T_51668c34_0f6e_11ec_b437_e470b8cd6e59row2_col1\" class=\"data row2 col1\" >91.98%</td>\n",
       "                        <td id=\"T_51668c34_0f6e_11ec_b437_e470b8cd6e59row2_col2\" class=\"data row2 col2\" >95.45%</td>\n",
       "                        <td id=\"T_51668c34_0f6e_11ec_b437_e470b8cd6e59row2_col3\" class=\"data row2 col3\" >91.86%</td>\n",
       "                        <td id=\"T_51668c34_0f6e_11ec_b437_e470b8cd6e59row2_col4\" class=\"data row2 col4\" >91.92%</td>\n",
       "                        <td id=\"T_51668c34_0f6e_11ec_b437_e470b8cd6e59row2_col5\" class=\"data row2 col5\" >91.88%</td>\n",
       "                        <td id=\"T_51668c34_0f6e_11ec_b437_e470b8cd6e59row2_col6\" class=\"data row2 col6\" >88.55%</td>\n",
       "                        <td id=\"T_51668c34_0f6e_11ec_b437_e470b8cd6e59row2_col7\" class=\"data row2 col7\" >91.98%</td>\n",
       "                        <td id=\"T_51668c34_0f6e_11ec_b437_e470b8cd6e59row2_col8\" class=\"data row2 col8\" >91.11%</td>\n",
       "                        <td id=\"T_51668c34_0f6e_11ec_b437_e470b8cd6e59row2_col9\" class=\"data row2 col9\" >89.97%</td>\n",
       "            </tr>\n",
       "    </tbody></table>"
      ],
      "text/plain": [
       "<pandas.io.formats.style.Styler at 0x16a06591888>"
      ]
     },
     "execution_count": 17,
     "metadata": {},
     "output_type": "execute_result"
    }
   ],
   "source": [
    "met=[ metrics.recall_score, specificity_score, \n",
    "      metrics.balanced_accuracy_score\n",
    "    ]\n",
    "np.random.seed(13)\n",
    "raw_metric_samples(met, ytest, hardpredtst_tuned_thresh,\n",
    "                  ).style.format('{:.2%}')"
   ]
  },
  {
   "cell_type": "code",
   "execution_count": 188,
   "metadata": {},
   "outputs": [],
   "source": []
  },
  {
   "cell_type": "code",
   "execution_count": null,
   "metadata": {},
   "outputs": [],
   "source": []
  },
  {
   "cell_type": "code",
   "execution_count": 216,
   "metadata": {},
   "outputs": [],
   "source": [
    "import matplotlib.ticker as mtick\n",
    "import seaborn as sns\n",
    "sns.set_style('whitegrid')\n",
    "metr = metrics.recall_score\n",
    "np.random.seed(13)\n",
    "data = raw_metric_samples(metr, ytest, hardpredtst_tuned_thresh, \n",
    "               nboots=500).transpose()"
   ]
  },
  {
   "cell_type": "code",
   "execution_count": 221,
   "metadata": {},
   "outputs": [
    {
     "data": {
      "image/png": "[encoded data removed]",
      "text/plain": [
       "<Figure size 1500x600 with 1 Axes>"
      ]
     },
     "metadata": {},
     "output_type": "display_data"
    }
   ],
   "source": [
    "point = metr(ytest, hardpredtst_tuned_thresh)\n",
    "(lower, upper) = data.quantile([0.025, 0.975]).iloc[:,0]\n",
    "plt.rcParams[\"figure.dpi\"] = 300\n",
    "ax = data.hist(bins=50, figsize=(5, 2), alpha=0.4)[0][0]\n",
    "ax.xaxis.set_major_formatter(mtick.PercentFormatter(1.0))\n",
    "for x in lower, point, upper:\n",
    "    ax.plot([x, x],[0, 30], lw=3)"
   ]
  },
  {
   "cell_type": "code",
   "execution_count": null,
   "metadata": {},
   "outputs": [],
   "source": []
  },
  {
   "cell_type": "code",
   "execution_count": 207,
   "metadata": {},
   "outputs": [],
   "source": [
    "DFLT_NBOOTS=500\n",
    "def ci(metrics, *data_args, quantiles=[0.025,0.975], \n",
    "           nboots=DFLT_NBOOTS, **metric_kwargs):\n",
    "    \"\"\"Return Pandas data frame of bootstrap confidence intervals. \n",
    "    PARAMETERS:\n",
    "    metrics : a metric func or iterable of funcs e.g. [m1, m2, m3]\n",
    "    data_args : 1+ (often 2, e.g. ytrue,ypred) iterables for metric \n",
    "    quantiles : [upper,lower] if for 1 CI (dflt is for 95% 2-tail)\n",
    "    nboots : number of bootstrap samples drawn from data (dflt 500)\n",
    "    metric_kwargs : each metric gets any KW's it accepts optionally\n",
    "    \"\"\" # non-std expr fmt: ( ) above one another unless same line\n",
    "    if callable(metrics): metrics=[metrics] # single metric func to list\n",
    "    metrics=list(metrics) # in case it is a generator [expr]\n",
    "    result=raw_metric_samples\\\n",
    "      (metrics, *data_args, nboots=nboots, sort=False, **metric_kwargs)\n",
    "    resboots=result.shape[1]\n",
    "    if resboots<nboots: print\\\n",
    "            ( f'Note: {nboots-resboots} bootstrap '\n",
    "              f'samples dropped (out of {nboots}) because all '\n",
    "              f'values were identical within first data arg'\n",
    "            ) # results may be biased if too many were dropped\n",
    "    result=result.apply(lambda row: row.quantile(quantiles),axis=1)\n",
    "    result.columns=[f'{q*100}%ile' for q in quantiles]\n",
    "    result.columns.name=f\"{resboots} Boot Samples\"\n",
    "    result.insert\\\n",
    "    ( 0, \"Point Estim\", [ m( *[data_arg for data_arg in data_args], \n",
    "                             **_kws_this_metric(m,**metric_kwargs)\n",
    "                           ) for m in metrics\n",
    "                        ]# end of list compreh. of all metrics for col\n",
    "    ) # inserted (in place) point estim col as first col (all metrics)\n",
    "    return result"
   ]
  },
  {
   "cell_type": "code",
   "execution_count": 14,
   "metadata": {},
   "outputs": [
    {
     "data": {
      "text/html": [
       "<style  type=\"text/css\" >\n",
       "</style><table id=\"T_cdf65a70_0d32_11ec_9ae0_e470b8cd6e59\" ><thead>    <tr>        <th class=\"index_name level0\" >500 Boot Samples</th>        <th class=\"col_heading level0 col0\" >Point Estim</th>        <th class=\"col_heading level0 col1\" >2.5%ile</th>        <th class=\"col_heading level0 col2\" >97.5%ile</th>    </tr>    <tr>        <th class=\"index_name level0\" >Metric (class 1 +ve)</th>        <th class=\"blank\" ></th>        <th class=\"blank\" ></th>        <th class=\"blank\" ></th>    </tr></thead><tbody>\n",
       "                <tr>\n",
       "                        <th id=\"T_cdf65a70_0d32_11ec_9ae0_e470b8cd6e59level0_row0\" class=\"row_heading level0 row0\" >Recall</th>\n",
       "                        <td id=\"T_cdf65a70_0d32_11ec_9ae0_e470b8cd6e59row0_col0\" class=\"data row0 col0\" >90.54%</td>\n",
       "                        <td id=\"T_cdf65a70_0d32_11ec_9ae0_e470b8cd6e59row0_col1\" class=\"data row0 col1\" >85.00%</td>\n",
       "                        <td id=\"T_cdf65a70_0d32_11ec_9ae0_e470b8cd6e59row0_col2\" class=\"data row0 col2\" >95.25%</td>\n",
       "            </tr>\n",
       "            <tr>\n",
       "                        <th id=\"T_cdf65a70_0d32_11ec_9ae0_e470b8cd6e59level0_row1\" class=\"row_heading level0 row1\" >Specificity (Recall of -ve)</th>\n",
       "                        <td id=\"T_cdf65a70_0d32_11ec_9ae0_e470b8cd6e59row1_col0\" class=\"data row1 col0\" >94.25%</td>\n",
       "                        <td id=\"T_cdf65a70_0d32_11ec_9ae0_e470b8cd6e59row1_col1\" class=\"data row1 col1\" >94.11%</td>\n",
       "                        <td id=\"T_cdf65a70_0d32_11ec_9ae0_e470b8cd6e59row1_col2\" class=\"data row1 col2\" >94.40%</td>\n",
       "            </tr>\n",
       "            <tr>\n",
       "                        <th id=\"T_cdf65a70_0d32_11ec_9ae0_e470b8cd6e59level0_row2\" class=\"row_heading level0 row2\" >Balanced Accuracy</th>\n",
       "                        <td id=\"T_cdf65a70_0d32_11ec_9ae0_e470b8cd6e59row2_col0\" class=\"data row2 col0\" >92.39%</td>\n",
       "                        <td id=\"T_cdf65a70_0d32_11ec_9ae0_e470b8cd6e59row2_col1\" class=\"data row2 col1\" >89.61%</td>\n",
       "                        <td id=\"T_cdf65a70_0d32_11ec_9ae0_e470b8cd6e59row2_col2\" class=\"data row2 col2\" >94.73%</td>\n",
       "            </tr>\n",
       "    </tbody></table>"
      ],
      "text/plain": [
       "<pandas.io.formats.style.Styler at 0x16a0632eb88>"
      ]
     },
     "execution_count": 14,
     "metadata": {},
     "output_type": "execute_result"
    }
   ],
   "source": [
    "np.random.seed(13)\n",
    "ci(met,ytest, hardpredtst_tuned_thresh).style.format('{:.2%}')"
   ]
  },
  {
   "cell_type": "code",
   "execution_count": null,
   "metadata": {},
   "outputs": [],
   "source": []
  }
 ],
 "metadata": {
  "kernelspec": {
   "display_name": "Python 3",
   "language": "python",
   "name": "python3"
  },
  "language_info": {
   "codemirror_mode": {
    "name": "ipython",
    "version": 3
   },
   "file_extension": ".py",
   "mimetype": "text/x-python",
   "name": "python",
   "nbconvert_exporter": "python",
   "pygments_lexer": "ipython3",
   "version": "3.7.5"
  }
 },
 "nbformat": 4,
 "nbformat_minor": 4
}
